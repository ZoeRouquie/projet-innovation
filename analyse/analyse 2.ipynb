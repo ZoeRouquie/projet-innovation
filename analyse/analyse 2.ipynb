{
 "cells": [
  {
   "cell_type": "markdown",
   "metadata": {},
   "source": [
    "Y comme variable de comptage "
   ]
  },
  {
   "cell_type": "code",
   "execution_count": 6,
   "metadata": {},
   "outputs": [],
   "source": [
    "import pandas as pd\n",
    "inno = pd.read_csv('data\\\\inno&secteur.csv')"
   ]
  },
  {
   "cell_type": "code",
   "execution_count": 7,
   "metadata": {},
   "outputs": [
    {
     "name": "stdout",
     "output_type": "stream",
     "text": [
      "    idstd  Innovation  innovation2\n",
      "0  562277         1.0          3.0\n",
      "1  562278         1.0          2.0\n",
      "2  562280         1.0          3.0\n",
      "3  562281         1.0          2.0\n",
      "4  562283         1.0          3.0\n"
     ]
    }
   ],
   "source": [
    "# Liste des colonnes à exclure\n",
    "columns_to_sum = ['Inno_Product', 'Inno_Process', 'Inno_Orga', 'Inno_Marketing']\n",
    "\n",
    "# Créer une nouvelle colonne 'innovation2' qui est la somme des colonnes spécifiées\n",
    "inno['innovation2'] = inno[columns_to_sum].sum(axis=1)\n",
    "\n",
    "# Vérification\n",
    "print(inno[['idstd', 'Innovation', 'innovation2']].head())\n"
   ]
  },
  {
   "cell_type": "code",
   "execution_count": 8,
   "metadata": {},
   "outputs": [],
   "source": [
    "final = pd.read_csv('final_data_inno_bin.csv')\n"
   ]
  },
  {
   "cell_type": "code",
   "execution_count": 13,
   "metadata": {},
   "outputs": [],
   "source": [
    "inno_subset = inno[['idstd', 'innovation2']]\n",
    "\n",
    "# 2. Fusionner avec le DataFrame 'final'\n",
    "merged_df = final.merge(inno_subset, on='idstd', how='inner')\n",
    "# 2. Supprimer la colonne 'Innovation' du DataFrame fusionné\n",
    "if 'Innovation' in merged_df.columns:\n",
    "    merged_df.drop(columns=['Innovation'], inplace=True)\n",
    "if 'Unnamed: 0' in merged_df.columns:\n",
    "    merged_df.drop(columns=['Unnamed: 0'], inplace=True)"
   ]
  },
  {
   "cell_type": "code",
   "execution_count": 14,
   "metadata": {},
   "outputs": [],
   "source": [
    "merged_df.to_csv('final_data_inno_comptage.csv')"
   ]
  }
 ],
 "metadata": {
  "kernelspec": {
   "display_name": ".venv",
   "language": "python",
   "name": "python3"
  },
  "language_info": {
   "codemirror_mode": {
    "name": "ipython",
    "version": 3
   },
   "file_extension": ".py",
   "mimetype": "text/x-python",
   "name": "python",
   "nbconvert_exporter": "python",
   "pygments_lexer": "ipython3",
   "version": "3.11.0"
  }
 },
 "nbformat": 4,
 "nbformat_minor": 2
}
