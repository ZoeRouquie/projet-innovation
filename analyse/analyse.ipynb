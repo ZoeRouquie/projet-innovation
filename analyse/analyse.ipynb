{
 "cells": [
  {
   "cell_type": "code",
   "execution_count": 25,
   "metadata": {},
   "outputs": [],
   "source": [
    "import pandas as pd\n",
    "\n",
    "# 1. Lecture des fichiers CSV\n",
    "df1 = pd.read_csv('data\\ANCIENNETE_data.xlsx - Sheet1.csv', usecols=['idstd','Anciennete'])\n",
    "df2 = pd.read_csv('data\\Colab_data.xlsx - Sheet1.csv', usecols=['idstd','colab'])\n",
    "df3 = pd.read_csv('data\\inno&secteur.xlsx - Sheet1.csv', usecols=['idstd','Innovation'])\n",
    "\n",
    "df5 = pd.read_csv('data\\IT_data.xlsx - Sheet 1.csv', usecols=['idstd','IT'])\n",
    "df6 =  pd.read_csv('data\\R&D_data.xlsx - Sheet1.csv',usecols=['idstd','R&D', 'Country'])\n",
    "\n",
    "# 2. Fusion itérative sur la colonne commune 'idstd'\n",
    "df_merged = df1.merge(df2, on='idstd', how='outer')\n",
    "df_merged = df_merged.merge(df3, on='idstd', how='outer')\n",
    "df_merged = df_merged.merge(df5, on='idstd', how='outer')\n",
    "df_merged = df_merged.merge(df6, on='idstd', how='outer')"
   ]
  },
  {
   "cell_type": "code",
   "execution_count": 29,
   "metadata": {},
   "outputs": [],
   "source": [
    "\n",
    "# 1. Convertir la colonne en type 'category'\n",
    "df_merged['Country'] = df_merged['Country'].astype('category')\n",
    "\n",
    "# 2. Réordonner les catégories pour mettre 'IN' en premier\n",
    "current_categories = df_merged['Country'].cat.categories.tolist()\n",
    "if 'IN' in current_categories:\n",
    "    # Retire 'IN' de la liste\n",
    "    current_categories.remove('IN')\n",
    "    # Ajoute 'IN' en première position\n",
    "    new_order = ['IN'] + current_categories\n",
    "    # Réordonne\n",
    "    df_merged['Country'] = df_merged['Country'].cat.reorder_categories(new_order, ordered=False)\n",
    "else:\n",
    "    print(\"Attention, la valeur 'IN' n'existe pas dans la colonne 'country'.\")\n",
    "\n",
    "# 3. Créer les variables binaires en supprimant la première catégorie (ici 'IN')\n",
    "df_merged = pd.get_dummies(\n",
    "    df_merged, \n",
    "    columns=['Country'], \n",
    "    drop_first=True  # va « drop » la première catégorie, donc 'IN'\n",
    ")\n",
    "\n"
   ]
  },
  {
   "cell_type": "code",
   "execution_count": 23,
   "metadata": {},
   "outputs": [
    {
     "name": "stdout",
     "output_type": "stream",
     "text": [
      "idstd            0\n",
      "Anciennete       0\n",
      "colab         1858\n",
      "Innovation       1\n",
      "IT              50\n",
      "R&D              8\n",
      "Country_IN       0\n",
      "Country_NE       0\n",
      "Country_PA       0\n",
      "dtype: int64\n"
     ]
    }
   ],
   "source": [
    "na_count = df_merged.isna().sum()\n",
    "\n",
    "print(na_count)\n"
   ]
  },
  {
   "cell_type": "code",
   "execution_count": 7,
   "metadata": {},
   "outputs": [
    {
     "data": {
      "text/html": [
       "<div>\n",
       "<style scoped>\n",
       "    .dataframe tbody tr th:only-of-type {\n",
       "        vertical-align: middle;\n",
       "    }\n",
       "\n",
       "    .dataframe tbody tr th {\n",
       "        vertical-align: top;\n",
       "    }\n",
       "\n",
       "    .dataframe thead th {\n",
       "        text-align: right;\n",
       "    }\n",
       "</style>\n",
       "<table border=\"1\" class=\"dataframe\">\n",
       "  <thead>\n",
       "    <tr style=\"text-align: right;\">\n",
       "      <th></th>\n",
       "      <th>idstd</th>\n",
       "      <th>colab</th>\n",
       "      <th>Innovation</th>\n",
       "      <th>IT</th>\n",
       "      <th>R&amp;D</th>\n",
       "    </tr>\n",
       "  </thead>\n",
       "  <tbody>\n",
       "    <tr>\n",
       "      <th>count</th>\n",
       "      <td>3754.000000</td>\n",
       "      <td>3754.000000</td>\n",
       "      <td>3754.000000</td>\n",
       "      <td>3754.000000</td>\n",
       "      <td>3754.000000</td>\n",
       "    </tr>\n",
       "    <tr>\n",
       "      <th>mean</th>\n",
       "      <td>559821.009057</td>\n",
       "      <td>0.213372</td>\n",
       "      <td>0.968034</td>\n",
       "      <td>0.261321</td>\n",
       "      <td>0.804475</td>\n",
       "    </tr>\n",
       "    <tr>\n",
       "      <th>std</th>\n",
       "      <td>16721.896583</td>\n",
       "      <td>0.409743</td>\n",
       "      <td>0.175933</td>\n",
       "      <td>0.439413</td>\n",
       "      <td>0.396657</td>\n",
       "    </tr>\n",
       "    <tr>\n",
       "      <th>min</th>\n",
       "      <td>527763.000000</td>\n",
       "      <td>0.000000</td>\n",
       "      <td>0.000000</td>\n",
       "      <td>0.000000</td>\n",
       "      <td>0.000000</td>\n",
       "    </tr>\n",
       "    <tr>\n",
       "      <th>25%</th>\n",
       "      <td>562442.000000</td>\n",
       "      <td>0.000000</td>\n",
       "      <td>1.000000</td>\n",
       "      <td>0.000000</td>\n",
       "      <td>1.000000</td>\n",
       "    </tr>\n",
       "    <tr>\n",
       "      <th>50%</th>\n",
       "      <td>566099.000000</td>\n",
       "      <td>0.000000</td>\n",
       "      <td>1.000000</td>\n",
       "      <td>0.000000</td>\n",
       "      <td>1.000000</td>\n",
       "    </tr>\n",
       "    <tr>\n",
       "      <th>75%</th>\n",
       "      <td>569570.750000</td>\n",
       "      <td>0.000000</td>\n",
       "      <td>1.000000</td>\n",
       "      <td>1.000000</td>\n",
       "      <td>1.000000</td>\n",
       "    </tr>\n",
       "    <tr>\n",
       "      <th>max</th>\n",
       "      <td>582137.000000</td>\n",
       "      <td>1.000000</td>\n",
       "      <td>1.000000</td>\n",
       "      <td>1.000000</td>\n",
       "      <td>1.000000</td>\n",
       "    </tr>\n",
       "  </tbody>\n",
       "</table>\n",
       "</div>"
      ],
      "text/plain": [
       "               idstd        colab   Innovation           IT          R&D\n",
       "count    3754.000000  3754.000000  3754.000000  3754.000000  3754.000000\n",
       "mean   559821.009057     0.213372     0.968034     0.261321     0.804475\n",
       "std     16721.896583     0.409743     0.175933     0.439413     0.396657\n",
       "min    527763.000000     0.000000     0.000000     0.000000     0.000000\n",
       "25%    562442.000000     0.000000     1.000000     0.000000     1.000000\n",
       "50%    566099.000000     0.000000     1.000000     0.000000     1.000000\n",
       "75%    569570.750000     0.000000     1.000000     1.000000     1.000000\n",
       "max    582137.000000     1.000000     1.000000     1.000000     1.000000"
      ]
     },
     "execution_count": 7,
     "metadata": {},
     "output_type": "execute_result"
    }
   ],
   "source": [
    "df_merged.dropna(inplace=True)\n",
    "df_merged.describe()\n"
   ]
  },
  {
   "cell_type": "code",
   "execution_count": 14,
   "metadata": {},
   "outputs": [],
   "source": [
    "df_merged = df_merged[df_merged['Anciennete'] != 'UNKNOWN']\n"
   ]
  },
  {
   "cell_type": "code",
   "execution_count": 8,
   "metadata": {},
   "outputs": [],
   "source": [
    "df_merged.drop(columns=['idstd'], inplace=True)"
   ]
  },
  {
   "cell_type": "markdown",
   "metadata": {},
   "source": [
    "Normaliser data continues"
   ]
  },
  {
   "cell_type": "code",
   "execution_count": 15,
   "metadata": {},
   "outputs": [
    {
     "name": "stdout",
     "output_type": "stream",
     "text": [
      "Anciennete    float64\n",
      "colab         float64\n",
      "Innovation    float64\n",
      "IT            float64\n",
      "R&D           float64\n",
      "dtype: object\n"
     ]
    }
   ],
   "source": [
    "from sklearn.preprocessing import StandardScaler\n",
    "\n",
    "scaler = StandardScaler()\n",
    "df_merged['Anciennete'] = scaler.fit_transform(df_merged[['Anciennete']])\n",
    "print(df_merged.dtypes)\n"
   ]
  },
  {
   "cell_type": "code",
   "execution_count": 16,
   "metadata": {},
   "outputs": [],
   "source": [
    "y = df_merged['Innovation']\n",
    "X = df_merged.drop(columns=['Innovation'])"
   ]
  },
  {
   "cell_type": "code",
   "execution_count": null,
   "metadata": {},
   "outputs": [],
   "source": []
  }
 ],
 "metadata": {
  "kernelspec": {
   "display_name": ".venv",
   "language": "python",
   "name": "python3"
  },
  "language_info": {
   "codemirror_mode": {
    "name": "ipython",
    "version": 3
   },
   "file_extension": ".py",
   "mimetype": "text/x-python",
   "name": "python",
   "nbconvert_exporter": "python",
   "pygments_lexer": "ipython3",
   "version": "3.11.0"
  }
 },
 "nbformat": 4,
 "nbformat_minor": 2
}
